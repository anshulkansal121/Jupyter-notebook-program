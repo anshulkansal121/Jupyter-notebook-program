{
 "cells": [
  {
   "cell_type": "code",
   "execution_count": 16,
   "id": "medical-newport",
   "metadata": {},
   "outputs": [],
   "source": [
    "from tkinter import *\n",
    "root=Tk()\n",
    "root.geometry(\"500x300\")\n",
    "\n",
    "def submit_value():\n",
    "    print(\"Your information has been successfully submitted\")\n",
    "\n",
    "\n",
    "Label(root, text=\"Registration Form\", font=\"times 15 bold\").grid(row=0,column=3)\n",
    "\n",
    "name_user= Label(root, text=\"Student Name\")\n",
    "name_user.grid(row=1,column=2)\n",
    "\n",
    "branch_user=Label(root,text=\"Branch\")\n",
    "branch_user.grid(row=2,column=2)\n",
    "\n",
    "gender_user=Label(root,text=\"Gender\")\n",
    "gender_user.grid(row=3,column=2)\n",
    "\n",
    "phone_user=Label(root,text=\"Phone No.\")\n",
    "phone_user.grid(row=4,column=2)\n",
    "\n",
    "Country_user=Label(root,text=\"Country\")\n",
    "Country_user.grid(row=5,column=2)\n",
    "\n",
    "name_val= StringVar\n",
    "branch_val= StringVar\n",
    "gender_val= StringVar\n",
    "phone_val= StringVar\n",
    "country_val= StringVar\n",
    "check_val=IntVar\n",
    "\n",
    "name_box=Entry(root,textvariable=name_val)\n",
    "name_box.grid(row=1,column=3)\n",
    "\n",
    "branch_box=Entry(root,textvariable=branch_val)\n",
    "branch_box.grid(row=2,column=3)\n",
    "\n",
    "gender_box=Entry(root,textvariable=gender_val)\n",
    "gender_box.grid(row=3,column=3)\n",
    "\n",
    "phone_box=Entry(root,textvariable=phone_val)\n",
    "phone_box.grid(row=4,column=3)\n",
    "\n",
    "country_box=Entry(root, textvariable=country_val)\n",
    "country_box.grid(row=5,column=3)\n",
    "\n",
    "\n",
    "check_box=Checkbutton(text=\"Remember me?\",variable=check_val)\n",
    "check_box.grid(row=6,column=3)\n",
    "\n",
    "Button(text=\"Submit\",command=submit_value).grid(row=7,column=3)\n",
    "\n",
    "root.mainloop()"
   ]
  },
  {
   "cell_type": "code",
   "execution_count": null,
   "id": "deadly-oxford",
   "metadata": {},
   "outputs": [],
   "source": []
  },
  {
   "cell_type": "code",
   "execution_count": null,
   "id": "virgin-calvin",
   "metadata": {},
   "outputs": [],
   "source": []
  }
 ],
 "metadata": {
  "kernelspec": {
   "display_name": "Python 3",
   "language": "python",
   "name": "python3"
  },
  "language_info": {
   "codemirror_mode": {
    "name": "ipython",
    "version": 3
   },
   "file_extension": ".py",
   "mimetype": "text/x-python",
   "name": "python",
   "nbconvert_exporter": "python",
   "pygments_lexer": "ipython3",
   "version": "3.8.5"
  }
 },
 "nbformat": 4,
 "nbformat_minor": 5
}
